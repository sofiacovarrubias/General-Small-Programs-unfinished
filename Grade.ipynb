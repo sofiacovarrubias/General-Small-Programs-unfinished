{
 "cells": [
  {
   "cell_type": "markdown",
   "source": [
    "# Original Code"
   ],
   "metadata": {}
  },
  {
   "cell_type": "code",
   "execution_count": 2,
   "source": [
    "import numpy as np\n",
    "#input raw scores into this block\n",
    "homework = (0,40)\n",
    "quizzes = ()\n",
    "exams = (63,59)\n",
    "final_exam = 'N/A'\n",
    "#if there is no grade for a category, put 'N/A'\n",
    "hw = np.sum(homework)/len(homework)\n",
    "qz = np.sum(quizzes)/len(quizzes)\n",
    "xms = np.sum(exams)/len(exams) \n",
    "#gets averages of the categories with more than one value\n",
    "percent = np.array([])\n",
    "Grade = np.array([])\n",
    "if type(hw) == np.int32 or type(hw) == np.float64:\n",
    "        percent = np.append(percent,5)\n",
    "        Grade = np.append(Grade,hw)\n",
    "if type(qz) == np.int32 or type(qz) == np.float64:\n",
    "        percent = np.append(percent,0)\n",
    "        Grade = np.append(Grade,qz)\n",
    "if type(xms) == np.int32 or type(xms) == np.float64:\n",
    "        percent = np.append(percent,70)\n",
    "        Grade = np.append(Grade,xms)\n",
    "if type(final_exam) == int or type(final_exam) == float:\n",
    "        percent = np.append(percent,25)\n",
    "        Grade = np.append(Grade,final_exam)\n",
    "ratio = percent/np.sum(percent)\n",
    "Final_Grade = np.sum(Grade*ratio)\n",
    "print(Final_Grade)"
   ],
   "outputs": [
    {
     "output_type": "stream",
     "name": "stdout",
     "text": [
      "nan\n"
     ]
    },
    {
     "output_type": "stream",
     "name": "stderr",
     "text": [
      "/opt/anaconda3/lib/python3.7/site-packages/ipykernel_launcher.py:9: RuntimeWarning: invalid value encountered in double_scalars\n",
      "  if __name__ == '__main__':\n"
     ]
    }
   ],
   "metadata": {}
  },
  {
   "cell_type": "markdown",
   "source": [
    "# UI version"
   ],
   "metadata": {}
  },
  {
   "cell_type": "code",
   "execution_count": null,
   "source": [
    "import numpy as np\n",
    "def Grade():\n",
    "    percent = np.array([])\n",
    "    Grade = np.array([])\n",
    "    o = input('Would you like to calculate your grade? y/n')\n",
    "    if o =='n' or o=='no':\n",
    "        print('Okay.')\n",
    "    elif o!='n' and o!='no' and o!='y' and o!='yes':\n",
    "        print('Sorry. Could you use a \"yes\" or \"no\"?')\n",
    "        print('Note: Putting a space after your answer will confuse the program, so please enter exactly as above.')\n",
    "        o = input('Would you like to calculate your grade? ')\n",
    "        if o == 'no':\n",
    "            print('Okay.')\n",
    "        elif o!='n' and o!='no' and o!='y' and o!='yes':\n",
    "            print('Nevermind then. If you would like to try again you will have to restart the program.')\n",
    "    while o=='y' or o=='yes':\n",
    "        print('Please follow the next instructions. If you have not received any grades in a category, please put \"N/A\" ')\n",
    "        print('All scores should be entered as percentages.')\n",
    "        print('_____')\n",
    "        hhh = input('Please type the homework grades you have gotten so far seperated by a comma. ')\n",
    "        while hhh != 'N/A' and hhh != 'n/a' and hhh != 'N/a':\n",
    "            hhh = list(map(int,(hhh).split(','))) #Fix placement of this\n",
    "            while type(hhh)!= list:\n",
    "                print('Sorry, I dont understand. For example if your homework is scored out of five, and you got four points on all of them, you will input \"80,80,80,80\"')\n",
    "                print('If you do not have any homework grades to enter, please enter \"N/A\"')\n",
    "                hhh = input('Lets try again. Please type the homework grades you have gotten so far seperated by a comma. ')\n",
    "                hhh = list(map(int,(hhh).split(',')))\n",
    "                break\n",
    "            if type(hhh)==list:\n",
    "                hhh = np.array(hhh)\n",
    "                ph = float(input('Great, and what percent of your grade is homework worth? '))\n",
    "                hw = np.sum(hhh)/len(hhh)\n",
    "                percent = np.append(percent,ph)\n",
    "                Grade = np.append(Grade,hw)\n",
    "                print('Okay, next question:')\n",
    "        if hhh == 'N/A' or hhh == 'n/a' or hhh == 'N/a':\n",
    "            print('Thats okay. Next question then:')\n",
    "        qqq = input('Please type the quiz grades you have gotten so far seperated by a comma. ')\n",
    "        if qqq == 'N/A' or hhh == 'n/a' or hhh == 'N/a':\n",
    "            print('Thats okay. Next question then:')\n",
    "        else: \n",
    "            qqq = np.array(list(map(int,(qqq).split(','))))\n",
    "            pq = float(input('Great, and what percent of your grade are quizzes worth? '))\n",
    "            qz = np.sum(qqq)/len(qqq)\n",
    "            percent = np.append(percent,pq)\n",
    "            Grade = np.append(Grade,qz)\n",
    "            print('Okay, next question:')\n",
    "        eee = input('Please type the exam grades you have gotten so far seperated by a comma. ')\n",
    "        if eee == 'N/A' or hhh == 'n/a' or hhh == 'N/a':\n",
    "            print('Thats okay. Next question then:')\n",
    "        else: \n",
    "            eee = np.array(list(map(int,(eee).split(','))))\n",
    "            pe = float(input('Great, and what percent of your grade are exams worth? '))\n",
    "            xms = np.sum(eee)/len(eee)\n",
    "            percent = np.append(percent,pe)\n",
    "            Grade = np.append(Grade,xms)\n",
    "            print('Okay, next question:')\n",
    "        idk = input('Have you taken your final exam yet? y/n')\n",
    "        if idk == 'y':\n",
    "            xms = float(input('Please type your final exam score.'))\n",
    "            pf = float(input('Great, and what percent of your grade is the final worth?'))\n",
    "            percent = np.append(percent,pf)\n",
    "            Grade = np.append(Grade,final_exam)\n",
    "        else: \n",
    "            print('Thats okay. Calculating...')\n",
    "        ratio = percent/np.sum(percent)\n",
    "        Final_Grade = np.sum(Grade*ratio)\n",
    "        return print('Looks like your final grade is',Final_Grade,'%')\n",
    "        break\n",
    "               \n",
    "#Note to Sofia: fix while loops, research if Error"
   ],
   "outputs": [],
   "metadata": {}
  },
  {
   "cell_type": "code",
   "execution_count": null,
   "source": [],
   "outputs": [],
   "metadata": {}
  }
 ],
 "metadata": {
  "kernelspec": {
   "name": "python3",
   "display_name": "Python 3.7.6 64-bit (conda)"
  },
  "language_info": {
   "codemirror_mode": {
    "name": "ipython",
    "version": 3
   },
   "file_extension": ".py",
   "mimetype": "text/x-python",
   "name": "python",
   "nbconvert_exporter": "python",
   "pygments_lexer": "ipython3",
   "version": "3.7.6"
  },
  "interpreter": {
   "hash": "dca0ade3e726a953b501b15e8e990130d2b7799f14cfd9f4271676035ebe5511"
  }
 },
 "nbformat": 4,
 "nbformat_minor": 2
}